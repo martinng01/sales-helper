{
 "cells": [
  {
   "cell_type": "markdown",
   "metadata": {},
   "source": [
    "# Create RAG DB\n",
    "\n",
    "Run this notebook to create the vector database about TikTok Ads\n"
   ]
  },
  {
   "cell_type": "code",
   "execution_count": 6,
   "metadata": {},
   "outputs": [],
   "source": [
    "from bs4 import SoupStrainer\n",
    "\n",
    "from langchain_community.document_loaders import WebBaseLoader\n",
    "from langchain_text_splitters import RecursiveCharacterTextSplitter\n",
    "from langchain_huggingface import HuggingFaceEmbeddings\n",
    "from langchain_chroma import Chroma\n",
    "\n",
    "CHROMA_DB_DIRECTORY = 'chroma_db'"
   ]
  },
  {
   "cell_type": "code",
   "execution_count": 2,
   "metadata": {},
   "outputs": [
    {
     "data": {
      "text/plain": [
       "['https://ads.tiktok.com/help/article/tiktok-ads-structure?lang=en',\n",
       " 'https://ads.tiktok.com/help/article/campaign-set-up?lang=en',\n",
       " 'https://ads.tiktok.com/help/article/choose-right-objective?lang=en',\n",
       " 'https://ads.tiktok.com/help/article/budget?lang=en',\n",
       " 'https://ads.tiktok.com/help/article/reach-frequency-ad-buying-type?lang=en']"
      ]
     },
     "execution_count": 2,
     "metadata": {},
     "output_type": "execute_result"
    }
   ],
   "source": [
    "links = []\n",
    "with open('rag_links.txt', 'r') as f:\n",
    "    for line in f:\n",
    "        links.append(line.strip())\n",
    "links[:5]"
   ]
  },
  {
   "cell_type": "code",
   "execution_count": 3,
   "metadata": {},
   "outputs": [
    {
     "data": {
      "text/plain": [
       "[Document(page_content='Ads run on TikTok Ads Manager are structured into 3 parts: \"Campaigns\", \"Ad Groups\", and \"Ads\". Understanding how your campaigns are structured will help you better set up target audiences, allocate your budget and design creative. This will allow you to expand your ad reach, improve your ad performance and ultimately achieve your campaign goals.Below we will go through how these three work together to create a successful advertising campaign.About the Campaign LevelThe first step to running ads on TikTok Ads Manager is to create a \"Campaign\". This means you need to also determine your campaign objectives (or goals), which are the final results you want your ads to achieve. Here are the basic steps for setting up your campaign:\\u200bSelect the campaign objective\\u200bSet the budget for the campaign\\u200bStart creating an ad groupYou can choose from various objectives like getting more people to install your app (App Install) or driving more people to your site (Traffic). At the campaign level, you will also set your campaign budget, either daily, lifetime, or no limit.Please refer to Create a Campaign for more details.Within each campaign, you will have multiple ad groups, which will enable you to optimize your ads and measure performance. Let\\'s take a look at that next.About the Ad Group LevelYou can set specific ad placements, audiences, target audiences, campaign budgets, schedule, optimization goals, and bids for each ad group at the ad group level. Here are the basic steps for setting up your ad group:\\u200bChoose placements\\u200bSet your target audience\\u200bSet up a campaign budget and schedule\\u200bSet optimization goals and bidding method\\u200bStart creating adsThe ad group level is a lot of the action takes place in this process, and is super critical for determining how your ads will run.Please refer to Create an Ad Group for more details.Within each ad group, there can be a single ad or multiple ads, which enables you to compare the delivery of different ads and optimize them based on their performance. Let\\'s review the last part of the TikTok Ads Structure.About the Ad LevelAds are the content that you ultimately present to the target audience and what they will see on their mobile apps. Here are the basic steps for setting up your ad group:\\u200bName Your Ads\\u200bSelect Ad Format\\u200bEnter Ad Details\\u200bUpload your media/creative\\u200bSet your display name and profile image\\u200bAdd text, including copy and call-to-action buttons\\u200bAdd TrackingPlease refer to Create an Ad for more details.This is the last part of the TikTok Ads structure. Now that you have a general idea of how setting up a campaign looks like, you are ready to start creating and optimizing your ads. ', metadata={'source': 'https://ads.tiktok.com/help/article/tiktok-ads-structure?lang=en'}),\n",
       " Document(page_content='TikTok Ads Manager structures ads into three parts: campaigns, ad groups, and ads. When you create an ad campaign, you will need to set up the advertising objective, campaign name, and budget. Before getting startedBefore you set up an ad campaign, consider what you want people to do when they see your ads. Objectives fall into three categories: awareness, consideration, and conversion. For example, if your goal is to attract more visitors to your website, you can choose the Traffic objective in the Consideration category. If you\\'re unsure about what objective is right for your campaign, learn How to choose the right objective. How to set up an ad campaign in TikTok Ads ManagerTo set up a campaign:Log in to your TikTok Ads Manager account.Click Create ad on your Dashboard. Alternatively, you can click Create from your Campaign list or click Copy under an existing campaign in your list.Choose an Objective.Set a campaign name. Note: Campaign names support 512 characters.Declare a Special ad category, if relevant.Toggle on/off Create split test and Campaign budget optimization options.Set a campaign budget. The campaign budget allows you to set a specific amount that you are willing to spend on running ads. Your campaign will stop running when it hits the budget. If you are unsure how much you want to spend on a campaign, you can learn more about ad budgets or edit ad settings later.If you save a campaign as a draft, it will be stored on your Campaign list under the collapsed heading \"You have X draft campaigns\". To create a campaign from a draft, find the campaign draft in your list and click Edit draft.  ', metadata={'source': 'https://ads.tiktok.com/help/article/campaign-set-up?lang=en'}),\n",
       " Document(page_content='Your advertising objective is a goal that you want to set and meet, so you can help grow your business and engage your audience. You can choose objectives from three categories in your TikTok Ads Manager account:Awareness: Grow awareness about your business or product, and reach people who are most likely to view your ad and remember it.Consideration: Get people to think about your business and seek more information.Conversion: Encourage people to perform an action, such as buying your product or installing your app.Each category contains its own objectives. Choose the objective that aligns with your goals.Awareness Reach: Show your ad to the maximum number of people.ConsiderationTraffic: Send more people to a destination on your website or app.Video views: Get more views and engagement for your video ads from an audience most likely to pay attention.Community interaction: Get more followers, profile visits, page visits or promote your livestream.Branded Mission: Get more engagements through collaborative solutions.ConversionApp promotion: Get more people to install and take desired actions in your app cost effectively.Lead generation: Collect leads for your business.Website conversions: Drive valuable actions on your website.Product sales: Sell products from your TikTok Shop, website, and app. ', metadata={'source': 'https://ads.tiktok.com/help/article/choose-right-objective?lang=en'}),\n",
       " Document(page_content='This article briefly introduces the definition of budget and how it works.Budget is the total amount of money you are willing spend for running ads, and can be a great tool for cost control. While bidding is used for controlling the cost per result as the ad level, budgeting is used to control the overall costs for campaigns and ad groups.You can set budgets for both campaigns and ad groups (one campaign can consists of several ad groups). There are 2 types of budgets, lifetime budgets and daily budgets.Note: Once you publish your campaign, you cannot change the budget type at the campaign or ad group level. As such, you will be unable to switch from a daily budget to a lifetime budget and vice versa.Lifetime BudgetThe lifetime budget is the maximum amount you are willing to spend on a campaign or ad group during the entire defined period you run an ad.Please note that when using lifetime budget on the ad group level, the delivery system will try to distribute the spending of your budget to run throughout the entire provided time range, but it is not guaranteed to allocate the budget exactly evenly on day-to-day. If you would like to set a daily spending cap, please use the daily budget instead.Daily BudgetThe daily budget is the maximum you are willing to spend on a campaign or ad group per day. Lifetime and daily budgets are set as upper limits and the amount actually spent during the delivery period can be less than the budget amount you specified. However, the cost of your campaign or ad group will never exceed the budget you set. Please keep in mind that if you select \"Daily Budget\" for a campaign, you must select \"Daily Budget\" at the ad group level. If you select \"Lifetime Budget\" for a campaign, you can select either \"Daily Budget\" or \"Lifetime Budget\" at the ad group level.Dynamic Daily Budget: This feature is not widely available yet. Please reach out to your account representative for more information.Dynamic daily budget is the average daily budget you are willing to spend for a week. When you set the daily amount you would like to spend, our system will spend up to 25% more on days where there are better opportunities and less on days where there are not. The daily spend charges will average out to the amount you set over the course of the week (Sunday to Saturday). The weekly overall spend will not surpass more than 7 times the daily budget. (For additional information, refer to About Dynamic Daily Budget.Minimum BudgetA minimum budget is required when setting both lifetime budgets and daily budgets in order to ensure the continuous delivery of your ad.\\u200bCampaign level minimum budget: For campaigns, both daily budgets and total budgets must exceed 50 USD.\\u200bAd group level minimum budget: For ad groups, daily budgets must exceed 20 USD. Lifetime budgets will be calculated as the minimum daily budget (20 USD) × scheduled days.For example: If delivery is scheduled for 31 days, the minimum budget for the ad group would be 20 USD × 31 days = 620 USD. ', metadata={'source': 'https://ads.tiktok.com/help/article/budget?lang=en'}),\n",
       " Document(page_content=\"Before getting started: Reach & Frequency is currently only available to qualified customers. Please contact your sales representative for more information. Reach & Frequency (R&F) is a campaign buying type on TikTok Ads Manager that lets you control the audiences you reach and the number of times they are exposed to your ad messaging before delivery. Compared to Auction ads where ad delivery is determined by factors such as bid or bid strategy, with R&F you'll schedule campaigns with predictable reach and controlled frequency at a set cost.How Reach & Frequency worksWhen you create a Reach & Frequency campaign, it'll utilize three main components at the Ad Group level:\\u200bTargeting: The audience size that you may reach.\\u200bSchedule: When your ads will be delivered.\\u200bReservation and purchase method: Unique to R&F. Controls your budget, impressions, reach, and percentage of the audience reached.Your chosen settings for each are then used to predict the outcome and total cost of your campaign.With Reach & Frequency, you'll see how your choices impact the following in real-time:\\u200bReach\\u200bImpressions\\u200bCost per Mille/Thousand Impressions (CPM)\\u200bFrequency\\u200bBudgetWhy choose Reach & FrequencyReach & Frequency is an ideal choice for those who want to pre-book their campaign in advance and estimate their results beforehand. You can take advantage of the following benefits that R&F brings, including:\\u200bMore control: Transparent media planning and frequency controlUnique R&F features: Leverage features such as interactive added-on and multi-creative delivery strategies, to convey your brand message in TikTok style\\u200bDirect users: Use R&F to bundle with and drive traffic to Branded Hashtag Challenge, Brand Effect campaign, TikTok Profile page, and TikTok Shop Product Detail Page\\u200bBuild smarter campaigns: Generate audience group from R&F and apply to lower funnel campaignWhen to use Reach & FrequencyReach & Frequency focuses on scale, and is a great way to drive branding and awareness. Unlike Auction ads that focus on purchase/conversion events and have the potential to limit reach based on budget, R&F will maximize your budget to get the most amount of people to engage with your content.We recommend using R&F when you seek:\\u200bLarge awareness generation purposes, such as product launches, brand events, etc.\\u200bA fixed amount of the marketing budget to reach TikTok users.\\u200bTo conduct a campaign with minor monitoring and adjustments during mid-flight.\\u200bCampaigns with storytelling narratives that require a more relevant, native formatKey industries that benefit from Reach & FrequencyReach & Frequency can benefit certain industries that value engagement on a wide scale. Consider how the following industries use R&F:Entertainment: Leverage Ad Scheduling for trailers in R&F campaigns. Engage your target audience by genre in a story-like manner.Gaming: Build mass exposure with the TikTok audience in new product launch campaigns, big updates, and IP crossovers.Fast-moving consumer goods: \\u200bBuild mass exposure and a custom audience to re-engage users in Brand Auction with a product offer message.Retail & E-Commerce: Leverage Campaign Forecaster to evaluate budget, reach, and frequency. Secure inventory for prime moments during gifting season.Food & Beverage: Leverage creator content and R&F buying to attain predicted branding results.Reach & Frequency setup guide summaryTo set up a Reach & Frequency campaign, you'll need to make a series of selections at the Campaign, Ad Group, and Ad level.At the Campaign level\\u200bCreate a campaign in TikTok for Business Ads Manager, select Reach & Frequency as the Buying Type. The Advertising Objective will be Reach.At the Ad Group level\\u200bDefine who, when, and how you want your target audience to see your ads with diversified targeting and delivery options.At the Ad level\\u200bAdd the videos, TikTok Posts, and even interactive add-ons you want to show to your audience and the destinations you want to direct your audience toCreate a custom audience\\u200bCreate a custom audience from the R&F campaign and re-engage them in Auction campaigns.How to optimize your Reach & Frequency campaignConsider the following best practices to ensure success for your R&F campaigns:\\u200bLeverage TikTok Ads Manager's Campaign Forecaster tool to strategically plan for your R&F campaigns. Quickly create different versions, compare metrics, and more.\\u200bReserve R&F inventory as early as possible to ensure a lower CPM price, and maximize campaign reach using the same budget.\\u200bRun a 3+ week R&F campaign and engage with TikTok users 3 times a week.\\u200bDirect R&F targeted users to TikTok Pages for a seamless, paid-organic user experience within TikTok. \", metadata={'source': 'https://ads.tiktok.com/help/article/reach-frequency-ad-buying-type?lang=en'})]"
      ]
     },
     "execution_count": 3,
     "metadata": {},
     "output_type": "execute_result"
    }
   ],
   "source": [
    "loader = WebBaseLoader(links, bs_kwargs={\n",
    "    'parse_only': SoupStrainer('div', class_='article_wrapper_slug_content')\n",
    "})\n",
    "docs = loader.load()\n",
    "docs[:5]"
   ]
  },
  {
   "cell_type": "code",
   "execution_count": 4,
   "metadata": {},
   "outputs": [
    {
     "data": {
      "text/plain": [
       "[Document(page_content='Ads run on TikTok Ads Manager are structured into 3 parts: \"Campaigns\", \"Ad Groups\", and \"Ads\". Understanding how your campaigns are structured will help you better set up target audiences, allocate your budget and design creative. This will allow you to expand your ad reach, improve your ad performance and ultimately achieve your campaign goals.Below we will go through how these three work together to create a successful advertising campaign.About the Campaign LevelThe first step to running ads on TikTok Ads Manager is to create a \"Campaign\". This means you need to also determine your campaign objectives (or goals), which are the final results you want your ads to achieve. Here are the basic steps for setting up your campaign:\\u200bSelect the campaign objective\\u200bSet the budget for the campaign\\u200bStart creating an ad groupYou can choose from various objectives like getting more people to install your app (App Install) or driving more people to your site (Traffic). At the campaign level, you', metadata={'source': 'https://ads.tiktok.com/help/article/tiktok-ads-structure?lang=en'}),\n",
       " Document(page_content=\"creating an ad groupYou can choose from various objectives like getting more people to install your app (App Install) or driving more people to your site (Traffic). At the campaign level, you will also set your campaign budget, either daily, lifetime, or no limit.Please refer to Create a Campaign for more details.Within each campaign, you will have multiple ad groups, which will enable you to optimize your ads and measure performance. Let's take a look at that next.About the Ad Group LevelYou can set specific ad placements, audiences, target audiences, campaign budgets, schedule, optimization goals, and bids for each ad group at the ad group level. Here are the basic steps for setting up your ad group:\\u200bChoose placements\\u200bSet your target audience\\u200bSet up a campaign budget and schedule\\u200bSet optimization goals and bidding method\\u200bStart creating adsThe ad group level is a lot of the action takes place in this process, and is super critical for determining how your ads will run.Please refer to\", metadata={'source': 'https://ads.tiktok.com/help/article/tiktok-ads-structure?lang=en'}),\n",
       " Document(page_content=\"goals and bidding method\\u200bStart creating adsThe ad group level is a lot of the action takes place in this process, and is super critical for determining how your ads will run.Please refer to Create an Ad Group for more details.Within each ad group, there can be a single ad or multiple ads, which enables you to compare the delivery of different ads and optimize them based on their performance. Let's review the last part of the TikTok Ads Structure.About the Ad LevelAds are the content that you ultimately present to the target audience and what they will see on their mobile apps. Here are the basic steps for setting up your ad group:\\u200bName Your Ads\\u200bSelect Ad Format\\u200bEnter Ad Details\\u200bUpload your media/creative\\u200bSet your display name and profile image\\u200bAdd text, including copy and call-to-action buttons\\u200bAdd TrackingPlease refer to Create an Ad for more details.This is the last part of the TikTok Ads structure. Now that you have a general idea of how setting up a campaign looks like, you are\", metadata={'source': 'https://ads.tiktok.com/help/article/tiktok-ads-structure?lang=en'}),\n",
       " Document(page_content='buttons\\u200bAdd TrackingPlease refer to Create an Ad for more details.This is the last part of the TikTok Ads structure. Now that you have a general idea of how setting up a campaign looks like, you are ready to start creating and optimizing your ads.', metadata={'source': 'https://ads.tiktok.com/help/article/tiktok-ads-structure?lang=en'}),\n",
       " Document(page_content=\"TikTok Ads Manager structures ads into three parts: campaigns, ad groups, and ads. When you create an ad campaign, you will need to set up the advertising objective, campaign name, and budget. Before getting startedBefore you set up an ad campaign, consider what you want people to do when they see your ads. Objectives fall into three categories: awareness, consideration, and conversion. For example, if your goal is to attract more visitors to your website, you can choose the Traffic objective in the Consideration category. If you're unsure about what objective is right for your campaign, learn How to choose the right objective. How to set up an ad campaign in TikTok Ads ManagerTo set up a campaign:Log in to your TikTok Ads Manager account.Click Create ad on your Dashboard. Alternatively, you can click Create from your Campaign list or click Copy under an existing campaign in your list.Choose an Objective.Set a campaign name. Note: Campaign names support 512 characters.Declare a Special\", metadata={'source': 'https://ads.tiktok.com/help/article/campaign-set-up?lang=en'})]"
      ]
     },
     "execution_count": 4,
     "metadata": {},
     "output_type": "execute_result"
    }
   ],
   "source": [
    "text_splitter = RecursiveCharacterTextSplitter(\n",
    "    chunk_size=1000,\n",
    "    chunk_overlap=200,\n",
    ")\n",
    "docs_split = text_splitter.split_documents(docs)\n",
    "docs_split[:5]"
   ]
  },
  {
   "cell_type": "code",
   "execution_count": 7,
   "metadata": {},
   "outputs": [
    {
     "name": "stderr",
     "output_type": "stream",
     "text": [
      "/opt/anaconda3/envs/techjam/lib/python3.11/site-packages/huggingface_hub/file_download.py:1132: FutureWarning: `resume_download` is deprecated and will be removed in version 1.0.0. Downloads always resume when possible. If you want to force a new download, use `force_download=True`.\n",
      "  warnings.warn(\n"
     ]
    }
   ],
   "source": [
    "sbert_embed = HuggingFaceEmbeddings(model_name='all-MiniLM-L6-v2')\n",
    "\n",
    "db = Chroma.from_documents(\n",
    "    documents=docs_split,\n",
    "    embedding=sbert_embed,\n",
    "    collection_name='ads',\n",
    "    persist_directory=CHROMA_DB_DIRECTORY,\n",
    ")"
   ]
  },
  {
   "cell_type": "code",
   "execution_count": null,
   "metadata": {},
   "outputs": [],
   "source": []
  },
  {
   "cell_type": "code",
   "execution_count": null,
   "metadata": {},
   "outputs": [],
   "source": []
  }
 ],
 "metadata": {
  "kernelspec": {
   "display_name": "sales-helper",
   "language": "python",
   "name": "python3"
  },
  "language_info": {
   "codemirror_mode": {
    "name": "ipython",
    "version": 3
   },
   "file_extension": ".py",
   "mimetype": "text/x-python",
   "name": "python",
   "nbconvert_exporter": "python",
   "pygments_lexer": "ipython3",
   "version": "3.11.9"
  }
 },
 "nbformat": 4,
 "nbformat_minor": 2
}
