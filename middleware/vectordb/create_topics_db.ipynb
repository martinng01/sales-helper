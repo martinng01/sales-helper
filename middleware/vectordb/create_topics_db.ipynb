{
 "cells": [
  {
   "cell_type": "code",
   "execution_count": 9,
   "metadata": {},
   "outputs": [],
   "source": [
    "from langchain_huggingface import HuggingFaceEmbeddings\n",
    "from langchain_chroma import Chroma\n",
    "from langchain.docstore.document import Document\n",
    "\n",
    "CHROMA_DB_DIRECTORY = 'chroma_db'"
   ]
  },
  {
   "cell_type": "code",
   "execution_count": 10,
   "metadata": {},
   "outputs": [
    {
     "data": {
      "text/plain": [
       "['What are the key elements of an ad campaign structure?',\n",
       " 'How can I create an effective advertising campaign?',\n",
       " 'What are the main advertising objectives to consider?',\n",
       " 'How should I set and manage my campaign budget?',\n",
       " 'What is the importance of reach and frequency in advertising?']"
      ]
     },
     "execution_count": 10,
     "metadata": {},
     "output_type": "execute_result"
    }
   ],
   "source": [
    "topics = []\n",
    "with open('topics.txt', 'r') as f:\n",
    "    for line in f:\n",
    "        topics.append(line.strip())\n",
    "topics[:5]"
   ]
  },
  {
   "cell_type": "code",
   "execution_count": 11,
   "metadata": {},
   "outputs": [],
   "source": [
    "sbert_embed = HuggingFaceEmbeddings(model_name='all-MiniLM-L6-v2')\n",
    "db = Chroma.from_documents(\n",
    "    documents=[Document(page_content=topic) for topic in topics],\n",
    "    embedding=sbert_embed,\n",
    "    collection_name='topics',\n",
    "    persist_directory=CHROMA_DB_DIRECTORY,\n",
    ")"
   ]
  },
  {
   "cell_type": "code",
   "execution_count": 22,
   "metadata": {},
   "outputs": [
    {
     "data": {
      "text/plain": [
       "[(Document(page_content='How can I create an effective advertising campaign?'),\n",
       "  0.6580970682069244),\n",
       " (Document(page_content='What creative solutions are available for TikTok ads?'),\n",
       "  0.648051220522257),\n",
       " (Document(page_content='What creative tools can I use for TikTok ads?'),\n",
       "  0.6002302920524458),\n",
       " (Document(page_content='What are the best practices for ad targeting on TikTok?'),\n",
       "  0.5994318172581394)]"
      ]
     },
     "execution_count": 22,
     "metadata": {},
     "output_type": "execute_result"
    }
   ],
   "source": [
    "db.similarity_search_with_relevance_scores(\n",
    "    'Hello I own a company, how do I create an effective advertising campaign on your platform tiktok?')"
   ]
  },
  {
   "cell_type": "code",
   "execution_count": 26,
   "metadata": {},
   "outputs": [
    {
     "data": {
      "text/plain": [
       "[(Document(page_content='How can I advertise using product images from TikTok Shop?'),\n",
       "  0.278218026642574),\n",
       " (Document(page_content='How can I optimize gross revenue for TikTok Shop?'),\n",
       "  0.2628978578273733),\n",
       " (Document(page_content='What is TikTok Creative Exchange and how can it benefit my campaign?'),\n",
       "  0.2503992485223271),\n",
       " (Document(page_content='What are the TikTok ad specifications I should follow?'),\n",
       "  0.23607199893502495)]"
      ]
     },
     "execution_count": 26,
     "metadata": {},
     "output_type": "execute_result"
    }
   ],
   "source": [
    "db.similarity_search_with_relevance_scores(\n",
    "    'Hello how are you, my name is martin and I am your sales helper at Tiktok today')"
   ]
  },
  {
   "cell_type": "code",
   "execution_count": null,
   "metadata": {},
   "outputs": [],
   "source": []
  }
 ],
 "metadata": {
  "kernelspec": {
   "display_name": "techjam",
   "language": "python",
   "name": "python3"
  },
  "language_info": {
   "codemirror_mode": {
    "name": "ipython",
    "version": 3
   },
   "file_extension": ".py",
   "mimetype": "text/x-python",
   "name": "python",
   "nbconvert_exporter": "python",
   "pygments_lexer": "ipython3",
   "version": "3.11.9"
  }
 },
 "nbformat": 4,
 "nbformat_minor": 2
}
